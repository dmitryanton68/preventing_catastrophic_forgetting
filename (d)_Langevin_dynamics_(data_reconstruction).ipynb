{
 "cells": [
  {
   "cell_type": "markdown",
   "metadata": {},
   "source": [
    "# (h) Langevin dynamics\n",
    "### Data reconstruction"
   ]
  },
  {
   "cell_type": "code",
   "execution_count": 1,
   "metadata": {},
   "outputs": [],
   "source": [
    "import os\n",
    "os.environ[\"CUDA_DEVICE_ORDER\"]=\"PCI_BUS_ID\"   \n",
    "os.environ[\"CUDA_VISIBLE_DEVICES\"]=\"0\"\n",
    "\n",
    "import torch\n",
    "from torch import Tensor\n",
    "import torch.nn as nn\n",
    "import torch.cuda as cuda\n",
    "import torch.utils.data as data_utils\n",
    "from torch.utils.data import DataLoader, Dataset\n",
    "from torch.nn.parameter import Parameter\n",
    "\n",
    "try:\n",
    "    import accimage\n",
    "except ImportError:\n",
    "    accimage = None\n",
    "\n",
    "import random\n",
    "import copy\n",
    "import time\n",
    "\n",
    "import torchvision\n",
    "from torchvision import datasets\n",
    "from torchvision import transforms\n",
    "from torchvision.datasets import ImageFolder\n",
    "\n",
    "from SpykeTorch import snn\n",
    "from SpykeTorch import functional as sf\n",
    "from SpykeTorch import visualization as vis\n",
    "from SpykeTorch import utils\n",
    "\n",
    "import struct\n",
    "import glob\n",
    "import datetime\n",
    "import re\n",
    "\n",
    "from sklearn.datasets import fetch_openml\n",
    "from sklearn.metrics import confusion_matrix\n",
    "import scipy.stats as sps\n",
    "from scipy.stats.mstats import mquantiles\n",
    "\n",
    "import pandas as pd\n",
    "import numpy as np\n",
    "import seaborn as sn\n",
    "import matplotlib.pyplot as plt\n",
    "%matplotlib inline\n",
    "\n",
    "import warnings\n",
    "warnings.filterwarnings(\"ignore\")\n",
    "\n",
    "from PIL import Image\n",
    "\n",
    "#import import_ipynb\n",
    "#from MozafariMNIST2018_class import MozafariMNIST2018"
   ]
  },
  {
   "cell_type": "code",
   "execution_count": 2,
   "metadata": {},
   "outputs": [
    {
     "name": "stdout",
     "output_type": "stream",
     "text": [
      "CUDA is available\n"
     ]
    }
   ],
   "source": [
    "use_cuda = True\n",
    "\n",
    "if torch.cuda.is_available():\n",
    "    print(\"CUDA is available\")\n",
    "    device = torch.device(\"cuda\")"
   ]
  },
  {
   "cell_type": "markdown",
   "metadata": {},
   "source": [
    "## Initial data"
   ]
  },
  {
   "cell_type": "code",
   "execution_count": 3,
   "metadata": {},
   "outputs": [
    {
     "data": {
      "text/plain": [
       "torch.Size([240, 1250000])"
      ]
     },
     "execution_count": 3,
     "metadata": {},
     "output_type": "execute_result"
    }
   ],
   "source": [
    "# location of storage of weight's sets\n",
    "# obtained as a result of working with the \"(h)_Langevin_dynamics_(initial_train_on_digits).ipynb\" file\n",
    "path = f'./sets_of_weights_for_Langevin_dynamics/'\n",
    "\n",
    "# tensor size check\n",
    "torch.load(f'{path}set_of_weights_0.pt').size()"
   ]
  },
  {
   "cell_type": "markdown",
   "metadata": {},
   "source": [
    "## Reconstruction sets of weights after training on digits\n",
    "Data from 24 files with 240 sets of weights per file were decomposed and reconstructed:     \n",
    "a history of weight changes was compiled and quantiles were extracted"
   ]
  },
  {
   "cell_type": "code",
   "execution_count": 4,
   "metadata": {},
   "outputs": [],
   "source": [
    "experiment_number = 0\n",
    "number_of_files = 25"
   ]
  },
  {
   "cell_type": "code",
   "execution_count": 5,
   "metadata": {
    "scrolled": true
   },
   "outputs": [
    {
     "name": "stdout",
     "output_type": "stream",
     "text": [
      "Data reconstruction:\n",
      "- oper.time of range# 0: 0 min 14 sec\n",
      "- oper.time of range# 1: 0 min 15 sec\n",
      "- oper.time of range# 2: 0 min 14 sec\n",
      "- oper.time of range# 3: 0 min 14 sec\n",
      "- oper.time of range# 4: 0 min 15 sec\n",
      "- oper.time of range# 5: 0 min 13 sec\n",
      "- oper.time of range# 6: 0 min 11 sec\n",
      "- oper.time of range# 7: 0 min 11 sec\n",
      "- oper.time of range# 8: 0 min 11 sec\n",
      "- oper.time of range# 9: 0 min 11 sec\n",
      "- oper.time of range# 10: 0 min 12 sec\n",
      "- oper.time of range# 11: 0 min 11 sec\n",
      "- oper.time of range# 12: 0 min 11 sec\n",
      "- oper.time of range# 13: 0 min 11 sec\n",
      "- oper.time of range# 14: 0 min 11 sec\n",
      "- oper.time of range# 15: 0 min 11 sec\n",
      "- oper.time of range# 16: 0 min 11 sec\n",
      "- oper.time of range# 17: 0 min 11 sec\n",
      "- oper.time of range# 18: 0 min 11 sec\n",
      "- oper.time of range# 19: 0 min 14 sec\n",
      "- oper.time of range# 20: 0 min 11 sec\n",
      "- oper.time of range# 21: 0 min 17 sec\n",
      "- oper.time of range# 22: 0 min 11 sec\n",
      "- oper.time of range# 23: 0 min 11 sec\n",
      "- oper.time of range# 24: 0 min 11 sec\n",
      "- oper.time of range# 25: 0 min 11 sec\n",
      "- oper.time of range# 26: 0 min 11 sec\n",
      "- oper.time of range# 27: 0 min 13 sec\n",
      "- oper.time of range# 28: 0 min 11 sec\n",
      "- oper.time of range# 29: 0 min 16 sec\n",
      "- oper.time of range# 30: 0 min 11 sec\n",
      "- oper.time of range# 31: 0 min 11 sec\n",
      "- oper.time of range# 32: 0 min 11 sec\n",
      "- oper.time of range# 33: 0 min 14 sec\n",
      "- oper.time of range# 34: 0 min 11 sec\n",
      "- oper.time of range# 35: 0 min 17 sec\n",
      "- oper.time of range# 36: 0 min 11 sec\n",
      "- oper.time of range# 37: 0 min 11 sec\n",
      "- oper.time of range# 38: 0 min 14 sec\n",
      "- oper.time of range# 39: 0 min 11 sec\n",
      "- oper.time of range# 40: 0 min 17 sec\n",
      "- oper.time of range# 41: 0 min 11 sec\n",
      "- oper.time of range# 42: 0 min 11 sec\n",
      "- oper.time of range# 43: 0 min 11 sec\n",
      "- oper.time of range# 44: 0 min 11 sec\n",
      "- oper.time of range# 45: 0 min 14 sec\n",
      "- oper.time of range# 46: 0 min 11 sec\n",
      "- oper.time of range# 47: 0 min 17 sec\n",
      "- oper.time of range# 48: 0 min 11 sec\n",
      "- oper.time of range# 49: 0 min 11 sec\n",
      "- oper.time of range# 50: 0 min 11 sec\n",
      "- oper.time of range# 51: 0 min 11 sec\n",
      "- oper.time of range# 52: 0 min 11 sec\n",
      "- oper.time of range# 53: 0 min 11 sec\n",
      "- oper.time of range# 54: 0 min 11 sec\n",
      "- oper.time of range# 55: 0 min 14 sec\n",
      "- oper.time of range# 56: 0 min 11 sec\n",
      "- oper.time of range# 57: 0 min 17 sec\n",
      "- oper.time of range# 58: 0 min 11 sec\n",
      "- oper.time of range# 59: 0 min 11 sec\n",
      "- oper.time of range# 60: 0 min 11 sec\n",
      "- oper.time of range# 61: 0 min 11 sec\n",
      "- oper.time of range# 62: 0 min 11 sec\n",
      "- oper.time of range# 63: 0 min 12 sec\n",
      "- oper.time of range# 64: 0 min 11 sec\n",
      "- oper.time of range# 65: 0 min 13 sec\n",
      "- oper.time of range# 66: 0 min 11 sec\n",
      "- oper.time of range# 67: 0 min 11 sec\n",
      "- oper.time of range# 68: 0 min 11 sec\n",
      "- oper.time of range# 69: 0 min 11 sec\n",
      "- oper.time of range# 70: 0 min 11 sec\n",
      "- oper.time of range# 71: 0 min 11 sec\n",
      "- oper.time of range# 72: 0 min 12 sec\n",
      "- oper.time of range# 73: 0 min 11 sec\n",
      "- oper.time of range# 74: 0 min 11 sec\n",
      "- oper.time of range# 75: 0 min 11 sec\n",
      "- oper.time of range# 76: 0 min 11 sec\n",
      "- oper.time of range# 77: 0 min 11 sec\n",
      "- oper.time of range# 78: 0 min 11 sec\n",
      "- oper.time of range# 79: 0 min 13 sec\n",
      "- oper.time of range# 80: 0 min 11 sec\n",
      "- oper.time of range# 81: 0 min 11 sec\n",
      "- oper.time of range# 82: 0 min 11 sec\n",
      "- oper.time of range# 83: 0 min 11 sec\n",
      "- oper.time of range# 84: 0 min 11 sec\n",
      "- oper.time of range# 85: 0 min 11 sec\n",
      "- oper.time of range# 86: 0 min 11 sec\n",
      "- oper.time of range# 87: 0 min 11 sec\n",
      "- oper.time of range# 88: 0 min 11 sec\n",
      "- oper.time of range# 89: 0 min 11 sec\n",
      "- oper.time of range# 90: 0 min 11 sec\n",
      "- oper.time of range# 91: 0 min 11 sec\n",
      "- oper.time of range# 92: 0 min 11 sec\n",
      "- oper.time of range# 93: 0 min 11 sec\n",
      "- oper.time of range# 94: 0 min 11 sec\n",
      "- oper.time of range# 95: 0 min 11 sec\n",
      "- oper.time of range# 96: 0 min 11 sec\n",
      "- oper.time of range# 97: 0 min 14 sec\n",
      "- oper.time of range# 98: 0 min 11 sec\n",
      "- oper.time of range# 99: 0 min 16 sec\n",
      "- oper.time of range# 100: 0 min 11 sec\n",
      "- oper.time of range# 101: 0 min 11 sec\n",
      "- oper.time of range# 102: 0 min 11 sec\n",
      "- oper.time of range# 103: 0 min 12 sec\n",
      "- oper.time of range# 104: 0 min 11 sec\n",
      "- oper.time of range# 105: 0 min 13 sec\n",
      "- oper.time of range# 106: 0 min 11 sec\n",
      "- oper.time of range# 107: 0 min 11 sec\n",
      "- oper.time of range# 108: 0 min 11 sec\n",
      "- oper.time of range# 109: 0 min 11 sec\n",
      "- oper.time of range# 110: 0 min 11 sec\n",
      "- oper.time of range# 111: 0 min 11 sec\n",
      "- oper.time of range# 112: 0 min 13 sec\n",
      "- oper.time of range# 113: 0 min 11 sec\n",
      "- oper.time of range# 114: 0 min 11 sec\n",
      "- oper.time of range# 115: 0 min 11 sec\n",
      "- oper.time of range# 116: 0 min 12 sec\n",
      "- oper.time of range# 117: 0 min 12 sec\n",
      "- oper.time of range# 118: 0 min 11 sec\n",
      "- oper.time of range# 119: 0 min 11 sec\n",
      "- oper.time of range# 120: 0 min 11 sec\n",
      "- oper.time of range# 121: 0 min 11 sec\n",
      "- oper.time of range# 122: 0 min 11 sec\n",
      "- oper.time of range# 123: 0 min 14 sec\n",
      "- oper.time of range# 124: 0 min 11 sec\n",
      "- oper.time of range# 125: 0 min 16 sec\n",
      "- oper.time of range# 126: 0 min 11 sec\n",
      "- oper.time of range# 127: 0 min 11 sec\n",
      "- oper.time of range# 128: 0 min 11 sec\n",
      "- oper.time of range# 129: 0 min 11 sec\n",
      "- oper.time of range# 130: 0 min 11 sec\n",
      "- oper.time of range# 131: 0 min 11 sec\n",
      "- oper.time of range# 132: 0 min 12 sec\n",
      "- oper.time of range# 133: 0 min 11 sec\n",
      "- oper.time of range# 134: 0 min 11 sec\n",
      "- oper.time of range# 135: 0 min 11 sec\n",
      "- oper.time of range# 136: 0 min 11 sec\n",
      "- oper.time of range# 137: 0 min 11 sec\n",
      "- oper.time of range# 138: 0 min 11 sec\n",
      "- oper.time of range# 139: 0 min 11 sec\n",
      "- oper.time of range# 140: 0 min 12 sec\n",
      "- oper.time of range# 141: 0 min 12 sec\n",
      "- oper.time of range# 142: 0 min 11 sec\n",
      "- oper.time of range# 143: 0 min 14 sec\n",
      "- oper.time of range# 144: 0 min 11 sec\n",
      "- oper.time of range# 145: 0 min 17 sec\n",
      "- oper.time of range# 146: 0 min 11 sec\n",
      "- oper.time of range# 147: 0 min 11 sec\n",
      "- oper.time of range# 148: 0 min 11 sec\n",
      "- oper.time of range# 149: 0 min 13 sec\n",
      "- oper.time of range# 150: 0 min 11 sec\n",
      "- oper.time of range# 151: 0 min 16 sec\n",
      "- oper.time of range# 152: 0 min 11 sec\n",
      "- oper.time of range# 153: 0 min 11 sec\n",
      "- oper.time of range# 154: 0 min 13 sec\n",
      "- oper.time of range# 155: 0 min 15 sec\n",
      "- oper.time of range# 156: 0 min 12 sec\n",
      "- oper.time of range# 157: 0 min 11 sec\n",
      "- oper.time of range# 158: 0 min 11 sec\n",
      "- oper.time of range# 159: 0 min 12 sec\n",
      "- oper.time of range# 160: 0 min 16 sec\n",
      "- oper.time of range# 161: 0 min 15 sec\n",
      "- oper.time of range# 162: 0 min 17 sec\n",
      "- oper.time of range# 163: 0 min 18 sec\n",
      "- oper.time of range# 164: 0 min 19 sec\n",
      "- oper.time of range# 165: 0 min 17 sec\n",
      "- oper.time of range# 166: 0 min 17 sec\n",
      "- oper.time of range# 167: 0 min 18 sec\n",
      "- oper.time of range# 168: 0 min 18 sec\n",
      "- oper.time of range# 169: 0 min 19 sec\n",
      "- oper.time of range# 170: 0 min 19 sec\n",
      "- oper.time of range# 171: 0 min 18 sec\n",
      "- oper.time of range# 172: 0 min 18 sec\n",
      "- oper.time of range# 173: 0 min 18 sec\n",
      "- oper.time of range# 174: 0 min 20 sec\n",
      "- oper.time of range# 175: 0 min 18 sec\n",
      "- oper.time of range# 176: 0 min 17 sec\n",
      "- oper.time of range# 177: 0 min 18 sec\n",
      "- oper.time of range# 178: 0 min 19 sec\n",
      "- oper.time of range# 179: 0 min 18 sec\n",
      "- oper.time of range# 180: 0 min 18 sec\n",
      "- oper.time of range# 181: 0 min 18 sec\n",
      "- oper.time of range# 182: 0 min 18 sec\n",
      "- oper.time of range# 183: 0 min 19 sec\n",
      "- oper.time of range# 184: 0 min 18 sec\n",
      "- oper.time of range# 185: 0 min 19 sec\n",
      "- oper.time of range# 186: 0 min 19 sec\n",
      "- oper.time of range# 187: 0 min 19 sec\n",
      "- oper.time of range# 188: 0 min 20 sec\n",
      "- oper.time of range# 189: 0 min 17 sec\n",
      "- oper.time of range# 190: 0 min 15 sec\n",
      "- oper.time of range# 191: 0 min 13 sec\n",
      "- oper.time of range# 192: 0 min 13 sec\n",
      "- oper.time of range# 193: 0 min 15 sec\n",
      "- oper.time of range# 194: 0 min 15 sec\n",
      "- oper.time of range# 195: 0 min 17 sec\n",
      "- oper.time of range# 196: 0 min 19 sec\n",
      "- oper.time of range# 197: 0 min 18 sec\n",
      "- oper.time of range# 198: 0 min 18 sec\n",
      "- oper.time of range# 199: 0 min 21 sec\n",
      "----------------------------------------\n",
      "Total operational time: 44 min 47 sec\n"
     ]
    }
   ],
   "source": [
    "ss_0 = time.time()\n",
    "\n",
    "print('Data reconstruction:')\n",
    "\n",
    "# location of storage of sets of weights \n",
    "# obtained as a result of working with the \"(h)_Langevin_dynamics_(initial_train_on_digits).ipynb\" file\n",
    "path = f'./sets_of_weights_for_Langevin_dynamics/'\n",
    "\n",
    "for k in range(200):\n",
    "    \n",
    "    seconds_0 = time.time()\n",
    "    \n",
    "    globals()[f'primary_set_of_weights_{k}'] = torch.load(f'{path}set_of_weights_0.pt', \\\n",
    "                                                map_location=torch.device('cuda'))[:, 6250*k:6250*(k+1)]\n",
    "    \n",
    "    for i in range(1, number_of_files-1): \n",
    "        temporary = torch.load(f'{path}set_of_weights_{i}.pt', \\\n",
    "                               map_location=torch.device('cuda'))[:, 6250*k:6250*(k+1)]\n",
    "        globals()[f'primary_set_of_weights_{k}'] = torch.cat((globals()[f'primary_set_of_weights_{k}'], \\\n",
    "                                                                  temporary), 0)\n",
    "    torch.save(globals()[f'primary_set_of_weights_{k}'], f'{path}primary_set_of_weights_{experiment_number}_{k}.pt')\n",
    "    del globals()[f'primary_set_of_weights_{k}']\n",
    "    torch.cuda.empty_cache()\n",
    "    \n",
    "    seconds_1 = time.time()  \n",
    "    print(f'- oper.time of range# {k}: '\n",
    "          f'{int((seconds_1 - seconds_0)//60)} min {int((seconds_1 - seconds_0)%60)} sec')     \n",
    "    \n",
    "ss_1 = time.time()  \n",
    "print('--'*20)\n",
    "print(f'Total operational time: '\n",
    "      f'{int((ss_1 - ss_0)//60)} min {int((ss_1 - ss_0)%60)} sec') "
   ]
  },
  {
   "cell_type": "markdown",
   "metadata": {},
   "source": [
    "## Calculations of deciles D10 (10%), D50 (50%) and D90 (90%)"
   ]
  },
  {
   "cell_type": "code",
   "execution_count": 6,
   "metadata": {
    "scrolled": true
   },
   "outputs": [
    {
     "name": "stdout",
     "output_type": "stream",
     "text": [
      "Calculation of quantiles:\n",
      "- oper.time# 1: 1 sec\n",
      "- oper.time# 2: 1 sec\n",
      "- oper.time# 3: 1 sec\n",
      "- oper.time# 4: 1 sec\n",
      "- oper.time# 5: 1 sec\n",
      "- oper.time# 6: 1 sec\n",
      "- oper.time# 7: 1 sec\n",
      "- oper.time# 8: 1 sec\n",
      "- oper.time# 9: 1 sec\n",
      "- oper.time# 10: 1 sec\n",
      "- oper.time# 11: 1 sec\n",
      "- oper.time# 12: 1 sec\n",
      "- oper.time# 13: 1 sec\n",
      "- oper.time# 14: 1 sec\n",
      "- oper.time# 15: 1 sec\n",
      "- oper.time# 16: 1 sec\n",
      "- oper.time# 17: 1 sec\n",
      "- oper.time# 18: 1 sec\n",
      "- oper.time# 19: 1 sec\n",
      "- oper.time# 20: 1 sec\n",
      "- oper.time# 21: 1 sec\n",
      "- oper.time# 22: 1 sec\n",
      "- oper.time# 23: 1 sec\n",
      "- oper.time# 24: 1 sec\n",
      "- oper.time# 25: 1 sec\n",
      "- oper.time# 26: 1 sec\n",
      "- oper.time# 27: 1 sec\n",
      "- oper.time# 28: 1 sec\n",
      "- oper.time# 29: 1 sec\n",
      "- oper.time# 30: 1 sec\n",
      "- oper.time# 31: 1 sec\n",
      "- oper.time# 32: 1 sec\n",
      "- oper.time# 33: 1 sec\n",
      "- oper.time# 34: 1 sec\n",
      "- oper.time# 35: 1 sec\n",
      "- oper.time# 36: 1 sec\n",
      "- oper.time# 37: 1 sec\n",
      "- oper.time# 38: 1 sec\n",
      "- oper.time# 39: 1 sec\n",
      "- oper.time# 40: 1 sec\n",
      "- oper.time# 41: 1 sec\n",
      "- oper.time# 42: 1 sec\n",
      "- oper.time# 43: 1 sec\n",
      "- oper.time# 44: 1 sec\n",
      "- oper.time# 45: 1 sec\n",
      "- oper.time# 46: 1 sec\n",
      "- oper.time# 47: 1 sec\n",
      "- oper.time# 48: 1 sec\n",
      "- oper.time# 49: 1 sec\n",
      "- oper.time# 50: 1 sec\n",
      "- oper.time# 51: 1 sec\n",
      "- oper.time# 52: 1 sec\n",
      "- oper.time# 53: 1 sec\n",
      "- oper.time# 54: 1 sec\n",
      "- oper.time# 55: 1 sec\n",
      "- oper.time# 56: 1 sec\n",
      "- oper.time# 57: 1 sec\n",
      "- oper.time# 58: 1 sec\n",
      "- oper.time# 59: 1 sec\n",
      "- oper.time# 60: 1 sec\n",
      "- oper.time# 61: 1 sec\n",
      "- oper.time# 62: 1 sec\n",
      "- oper.time# 63: 1 sec\n",
      "- oper.time# 64: 1 sec\n",
      "- oper.time# 65: 1 sec\n",
      "- oper.time# 66: 1 sec\n",
      "- oper.time# 67: 1 sec\n",
      "- oper.time# 68: 1 sec\n",
      "- oper.time# 69: 1 sec\n",
      "- oper.time# 70: 1 sec\n",
      "- oper.time# 71: 1 sec\n",
      "- oper.time# 72: 1 sec\n",
      "- oper.time# 73: 1 sec\n",
      "- oper.time# 74: 1 sec\n",
      "- oper.time# 75: 1 sec\n",
      "- oper.time# 76: 1 sec\n",
      "- oper.time# 77: 1 sec\n",
      "- oper.time# 78: 1 sec\n",
      "- oper.time# 79: 1 sec\n",
      "- oper.time# 80: 1 sec\n",
      "- oper.time# 81: 1 sec\n",
      "- oper.time# 82: 1 sec\n",
      "- oper.time# 83: 1 sec\n",
      "- oper.time# 84: 1 sec\n",
      "- oper.time# 85: 1 sec\n",
      "- oper.time# 86: 1 sec\n",
      "- oper.time# 87: 1 sec\n",
      "- oper.time# 88: 1 sec\n",
      "- oper.time# 89: 1 sec\n",
      "- oper.time# 90: 1 sec\n",
      "- oper.time# 91: 1 sec\n",
      "- oper.time# 92: 1 sec\n",
      "- oper.time# 93: 1 sec\n",
      "- oper.time# 94: 1 sec\n",
      "- oper.time# 95: 1 sec\n",
      "- oper.time# 96: 1 sec\n",
      "- oper.time# 97: 1 sec\n",
      "- oper.time# 98: 1 sec\n",
      "- oper.time# 99: 1 sec\n",
      "- oper.time# 100: 1 sec\n",
      "- oper.time# 101: 1 sec\n",
      "- oper.time# 102: 1 sec\n",
      "- oper.time# 103: 1 sec\n",
      "- oper.time# 104: 1 sec\n",
      "- oper.time# 105: 1 sec\n",
      "- oper.time# 106: 1 sec\n",
      "- oper.time# 107: 1 sec\n",
      "- oper.time# 108: 1 sec\n",
      "- oper.time# 109: 1 sec\n",
      "- oper.time# 110: 1 sec\n",
      "- oper.time# 111: 1 sec\n",
      "- oper.time# 112: 1 sec\n",
      "- oper.time# 113: 1 sec\n",
      "- oper.time# 114: 1 sec\n",
      "- oper.time# 115: 1 sec\n",
      "- oper.time# 116: 1 sec\n",
      "- oper.time# 117: 1 sec\n",
      "- oper.time# 118: 1 sec\n",
      "- oper.time# 119: 1 sec\n",
      "- oper.time# 120: 1 sec\n",
      "- oper.time# 121: 1 sec\n",
      "- oper.time# 122: 1 sec\n",
      "- oper.time# 123: 1 sec\n",
      "- oper.time# 124: 1 sec\n",
      "- oper.time# 125: 1 sec\n",
      "- oper.time# 126: 1 sec\n",
      "- oper.time# 127: 1 sec\n",
      "- oper.time# 128: 1 sec\n",
      "- oper.time# 129: 1 sec\n",
      "- oper.time# 130: 1 sec\n",
      "- oper.time# 131: 1 sec\n",
      "- oper.time# 132: 1 sec\n",
      "- oper.time# 133: 1 sec\n",
      "- oper.time# 134: 1 sec\n",
      "- oper.time# 135: 1 sec\n",
      "- oper.time# 136: 1 sec\n",
      "- oper.time# 137: 1 sec\n",
      "- oper.time# 138: 1 sec\n",
      "- oper.time# 139: 1 sec\n",
      "- oper.time# 140: 1 sec\n",
      "- oper.time# 141: 1 sec\n",
      "- oper.time# 142: 1 sec\n",
      "- oper.time# 143: 1 sec\n",
      "- oper.time# 144: 1 sec\n",
      "- oper.time# 145: 1 sec\n",
      "- oper.time# 146: 1 sec\n",
      "- oper.time# 147: 1 sec\n",
      "- oper.time# 148: 1 sec\n",
      "- oper.time# 149: 1 sec\n",
      "- oper.time# 150: 1 sec\n",
      "- oper.time# 151: 1 sec\n",
      "- oper.time# 152: 1 sec\n",
      "- oper.time# 153: 1 sec\n",
      "- oper.time# 154: 1 sec\n",
      "- oper.time# 155: 1 sec\n",
      "- oper.time# 156: 1 sec\n",
      "- oper.time# 157: 1 sec\n",
      "- oper.time# 158: 1 sec\n",
      "- oper.time# 159: 1 sec\n",
      "- oper.time# 160: 1 sec\n",
      "- oper.time# 161: 1 sec\n",
      "- oper.time# 162: 1 sec\n",
      "- oper.time# 163: 1 sec\n",
      "- oper.time# 164: 1 sec\n",
      "- oper.time# 165: 1 sec\n",
      "- oper.time# 166: 1 sec\n",
      "- oper.time# 167: 1 sec\n",
      "- oper.time# 168: 1 sec\n",
      "- oper.time# 169: 1 sec\n",
      "- oper.time# 170: 1 sec\n",
      "- oper.time# 171: 1 sec\n",
      "- oper.time# 172: 1 sec\n",
      "- oper.time# 173: 1 sec\n",
      "- oper.time# 174: 1 sec\n",
      "- oper.time# 175: 1 sec\n",
      "- oper.time# 176: 1 sec\n",
      "- oper.time# 177: 1 sec\n",
      "- oper.time# 178: 1 sec\n",
      "- oper.time# 179: 1 sec\n",
      "- oper.time# 180: 1 sec\n",
      "- oper.time# 181: 1 sec\n",
      "- oper.time# 182: 1 sec\n",
      "- oper.time# 183: 1 sec\n",
      "- oper.time# 184: 1 sec\n",
      "- oper.time# 185: 1 sec\n",
      "- oper.time# 186: 1 sec\n",
      "- oper.time# 187: 1 sec\n",
      "- oper.time# 188: 1 sec\n",
      "- oper.time# 189: 1 sec\n",
      "- oper.time# 190: 1 sec\n",
      "- oper.time# 191: 1 sec\n",
      "- oper.time# 192: 1 sec\n",
      "- oper.time# 193: 1 sec\n",
      "- oper.time# 194: 1 sec\n",
      "- oper.time# 195: 1 sec\n",
      "- oper.time# 196: 1 sec\n",
      "- oper.time# 197: 1 sec\n",
      "- oper.time# 198: 1 sec\n",
      "- oper.time# 199: 1 sec\n",
      "Total operational time: 5 min 46 sec\n"
     ]
    }
   ],
   "source": [
    "# location of storage of sets of weights \n",
    "# obtained as a result of working with the \"(h)_Langevin_dynamics_(initial_train_on_digits).ipynb\" file\n",
    "path = f'./sets_of_weights_for_Langevin_dynamics/'\n",
    "\n",
    "primary_set_of_weights = torch.load(f'{path}primary_set_of_weights_{experiment_number}_0.pt', \\\n",
    "                                            map_location=torch.device('cpu'))\n",
    "quantiles = mquantiles(primary_set_of_weights, prob=[0.1, 0.5, 0.9], axis=0)   \n",
    "quantiles = torch.tensor(quantiles)\n",
    "\n",
    "print(\"Calculation of quantiles:\")\n",
    "\n",
    "seconds_0 = time.time() \n",
    "\n",
    "for i in range(1, 200):   \n",
    "    ss_0 = time.time()\n",
    "    \n",
    "    current_set_of_weights = torch.load(f'{path}primary_set_of_weights_{experiment_number}_{i}.pt', \\\n",
    "                                                map_location=torch.device('cpu'))\n",
    "    current_quantiles = mquantiles(current_set_of_weights, prob=[0.1, 0.5, 0.9], axis=0)\n",
    "    current_quantiles = torch.tensor(current_quantiles)\n",
    "    quantiles = torch.cat((quantiles, current_quantiles), 1)\n",
    "\n",
    "    ss_1 = time.time()  \n",
    "    print(f'- oper.time# {i}: {int((ss_1 - ss_0)%60)} sec') \n",
    "\n",
    "seconds_1 = time.time()\n",
    "print(f'Total operational time: '\n",
    "          f'{int((seconds_1 - seconds_0)//60)} min {int((seconds_1 - seconds_0)%60)} sec')"
   ]
  },
  {
   "cell_type": "code",
   "execution_count": 7,
   "metadata": {},
   "outputs": [
    {
     "data": {
      "text/plain": [
       "torch.Size([3, 1250000])"
      ]
     },
     "execution_count": 7,
     "metadata": {},
     "output_type": "execute_result"
    }
   ],
   "source": [
    "quantiles.size()"
   ]
  },
  {
   "cell_type": "markdown",
   "metadata": {},
   "source": [
    "## Decile D10 (10%)"
   ]
  },
  {
   "cell_type": "code",
   "execution_count": 9,
   "metadata": {},
   "outputs": [
    {
     "data": {
      "image/png": "[encoded data removed]",
      "text/plain": [
       "<Figure size 1080x360 with 1 Axes>"
      ]
     },
     "metadata": {
      "needs_background": "light"
     },
     "output_type": "display_data"
    }
   ],
   "source": [
    "plt.subplots(figsize=(15, 5))\n",
    "plt.hist(np.array(quantiles[0]), bins=1000);\n",
    "plt.grid()"
   ]
  },
  {
   "cell_type": "markdown",
   "metadata": {},
   "source": [
    "## Decile D50 (50%)"
   ]
  },
  {
   "cell_type": "code",
   "execution_count": 10,
   "metadata": {},
   "outputs": [
    {
     "data": {
      "image/png": "[encoded data removed]",
      "text/plain": [
       "<Figure size 1080x360 with 1 Axes>"
      ]
     },
     "metadata": {
      "needs_background": "light"
     },
     "output_type": "display_data"
    }
   ],
   "source": [
    "plt.subplots(figsize=(15, 5))\n",
    "plt.hist(np.array(quantiles[1]), bins=1000);\n",
    "plt.grid()"
   ]
  },
  {
   "cell_type": "markdown",
   "metadata": {},
   "source": [
    "## Decile D90 (90%)"
   ]
  },
  {
   "cell_type": "code",
   "execution_count": 11,
   "metadata": {},
   "outputs": [
    {
     "data": {
      "image/png": "[encoded data removed]",
      "text/plain": [
       "<Figure size 1080x360 with 1 Axes>"
      ]
     },
     "metadata": {
      "needs_background": "light"
     },
     "output_type": "display_data"
    }
   ],
   "source": [
    "plt.subplots(figsize=(15, 5))\n",
    "plt.hist(np.array(quantiles[2]), bins=1000);\n",
    "plt.grid()"
   ]
  },
  {
   "cell_type": "markdown",
   "metadata": {},
   "source": [
    "## D90 - D10"
   ]
  },
  {
   "cell_type": "code",
   "execution_count": 12,
   "metadata": {},
   "outputs": [
    {
     "data": {
      "image/png": "[encoded data removed]",
      "text/plain": [
       "<Figure size 1080x360 with 1 Axes>"
      ]
     },
     "metadata": {
      "needs_background": "light"
     },
     "output_type": "display_data"
    }
   ],
   "source": [
    "plt.subplots(figsize=(15, 5))\n",
    "plt.hist(np.array(quantiles[2] - quantiles[0]), bins=1000);\n",
    "plt.grid()"
   ]
  },
  {
   "cell_type": "code",
   "execution_count": 13,
   "metadata": {},
   "outputs": [],
   "source": [
    "torch.save(quantiles, f'{path}quantiles_{experiment_number}.pt')"
   ]
  }
 ],
 "metadata": {
  "kernelspec": {
   "display_name": "Python 3",
   "language": "python",
   "name": "python3"
  },
  "language_info": {
   "codemirror_mode": {
    "name": "ipython",
    "version": 3
   },
   "file_extension": ".py",
   "mimetype": "text/x-python",
   "name": "python",
   "nbconvert_exporter": "python",
   "pygments_lexer": "ipython3",
   "version": "3.8.8"
  }
 },
 "nbformat": 4,
 "nbformat_minor": 4
}
